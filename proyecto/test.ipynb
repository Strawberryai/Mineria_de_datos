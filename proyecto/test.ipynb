{
 "cells": [
  {
   "cell_type": "code",
   "execution_count": 4,
   "id": "4937561c-e7a4-4ae9-b141-e7aac18731b9",
   "metadata": {},
   "outputs": [],
   "source": [
    "from gensim.utils import simple_preprocess\n",
    "from gensim.models.doc2vec import Doc2Vec\n",
    "import gensim.downloader\n",
    "import smart_open\n",
    "\n",
    "from gensim.test.utils import common_texts\n",
    "from gensim.models.doc2vec import Doc2Vec, TaggedDocument\n",
    "import pandas as pd\n",
    "\n",
    "import os\n",
    "\n",
    "data_dir = \".\"\n",
    "model_file = 'my_doc2vec.model'\n",
    "train_file = 'verbalAutopsy_train.csv'\n",
    "test_file = 'verbalAutopsy_test.csv'\n",
    "\n",
    "\n",
    "def train_docModel(texts, model_file):\n",
    "    # Inicializamos y entrenamos un modelo Doc2Vec\n",
    "    #documents = [TaggedDocument(doc, [i]) for i, doc in enumerate(common_texts)]\n",
    "    train_df = pd.read_csv(train_file)\n",
    "    documents = [TaggedDocument(doc, [i]) for i, doc in enumerate(texts)]\n",
    "\n",
    "    model = Doc2Vec(documents, vector_size=500, window=2, min_count=1, workers=4)\n",
    "\n",
    "    # Guardamos el modelo\n",
    "    model.save(model_file)\n",
    "\n",
    "\n",
    "def vec_docEmbeddings(docs, model):\n",
    "    for i, line in enumerate(docs):\n",
    "        # Preprocesado del documento\n",
    "        tokens = simple_preprocess(line)\n",
    "        # Vectorizamos\n",
    "        yield model.infer_vector(tokens)\n",
    "\n",
    "\n",
    "# Entrenamos el modelo\n",
    "#train_docModel(pd.read_csv(train_file)['open_response'], model_file)\n",
    "\n",
    "# Cargamos el modelo\n",
    "model = Doc2Vec.load(model_file)\n",
    "# model = gensim.downloader.load('glove-twitter-25')\n",
    "\n",
    "# Cargamos los datos\n",
    "train_df = pd.read_csv(train_file)\n",
    "\n",
    "\n",
    "# Obtenemos la vectorización de los documentos\n",
    "train_corpus = list(vec_docEmbeddings(train_df[\"open_response\"], model))"
   ]
  },
  {
   "cell_type": "code",
   "execution_count": 17,
   "id": "e51b974c-5c52-4a33-9b5d-8275260befa9",
   "metadata": {},
   "outputs": [
    {
     "name": "stdout",
     "output_type": "stream",
     "text": [
      "Dimensiones originales: 500\n",
      "Dimensiones después de aplicar PCA: 200\n"
     ]
    }
   ],
   "source": [
    "from sklearn.decomposition import PCA\n",
    "\n",
    "print('Dimensiones originales: 500')\n",
    "# Reducir las dimensiones para visualizarlas: PCA\n",
    "pca = PCA(n_components=4)\n",
    "pca.fit(train_corpus)\n",
    "# Cambio de base a dos dimensiones PCA \n",
    "x_train_PCAspace = pca.transform(train_corpus)\n",
    "print('Dimensiones después de aplicar PCA: 200')"
   ]
  },
  {
   "cell_type": "code",
   "execution_count": 18,
   "id": "2ab30ee2-de82-4a31-9c67-5a95d56c686c",
   "metadata": {},
   "outputs": [
    {
     "data": {
      "text/plain": [
       "array([[-8.82661727e-05,  3.72558000e-04, -8.99147216e-04,\n",
       "         3.43535659e-04],\n",
       "       [ 2.42061981e-04, -4.23823067e-04,  8.91246681e-04,\n",
       "        -9.02463786e-05],\n",
       "       [-6.98399987e-04,  1.47708529e-03,  1.86383723e-04,\n",
       "         6.98113201e-04],\n",
       "       ...,\n",
       "       [-2.61550886e-05, -4.34073384e-04, -1.17349615e-03,\n",
       "         7.11144334e-04],\n",
       "       [ 5.02433811e-04, -4.91880451e-06, -1.28889246e-03,\n",
       "         8.71236397e-04],\n",
       "       [-8.99695560e-04, -9.00370249e-04, -1.04024263e-03,\n",
       "         1.52360479e-04]])"
      ]
     },
     "execution_count": 18,
     "metadata": {},
     "output_type": "execute_result"
    }
   ],
   "source": [
    "x_train_PCAspace"
   ]
  },
  {
   "cell_type": "code",
   "execution_count": null,
   "id": "dd3384ec-2a6a-42fa-8d57-d373ae309abc",
   "metadata": {},
   "outputs": [],
   "source": []
  }
 ],
 "metadata": {
  "kernelspec": {
   "display_name": "Python 3 (ipykernel)",
   "language": "python",
   "name": "python3"
  },
  "language_info": {
   "codemirror_mode": {
    "name": "ipython",
    "version": 3
   },
   "file_extension": ".py",
   "mimetype": "text/x-python",
   "name": "python",
   "nbconvert_exporter": "python",
   "pygments_lexer": "ipython3",
   "version": "3.10.12"
  }
 },
 "nbformat": 4,
 "nbformat_minor": 5
}

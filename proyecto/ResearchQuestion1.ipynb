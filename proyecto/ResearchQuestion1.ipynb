{
 "cells": [
  {
   "cell_type": "markdown",
   "id": "8f382bdc",
   "metadata": {},
   "source": [
    "# Pickle de los datos"
   ]
  },
  {
   "cell_type": "code",
   "execution_count": null,
   "id": "445dcbd6",
   "metadata": {},
   "outputs": [],
   "source": [
    "# Guardamos los datos de las vectorizaciones con Pickle\n",
    "import pickle\n",
    "pickle_file = file('vectorizaciones.plk', 'w')\n",
    "pickle.dump(vectorizaciones, pickle_file)"
   ]
  },
  {
   "cell_type": "code",
   "execution_count": null,
   "id": "827db92e",
   "metadata": {},
   "outputs": [],
   "source": [
    "# Cargamos los datos guardados de las vectorizaciones\n",
    "import pickle\n",
    "pickle_file = file('vectorizaciones.plk')\n",
    "vectorizaciones = pickle.load(pickle_file)"
   ]
  },
  {
   "cell_type": "markdown",
   "id": "0c5bdffb",
   "metadata": {},
   "source": [
    "# Carga de los datos"
   ]
  },
  {
   "cell_type": "code",
   "execution_count": 1,
   "id": "cac8f542-4d02-4e7f-8927-cf97a718f49d",
   "metadata": {},
   "outputs": [],
   "source": [
    "train_file = 'verbalAutopsy_train.csv'\n",
    "test_file = 'verbalAutopsy_test.csv'\n",
    "\n",
    "extended_file = 'PHMRC_VAI_redacted_free_text_1.xlsx'\n",
    "\n",
    "model_doc2vec = 'my_doc2vec_n100.model'"
   ]
  },
  {
   "cell_type": "code",
   "execution_count": 2,
   "id": "65910850-4db9-4245-9388-aaedf99daf10",
   "metadata": {},
   "outputs": [],
   "source": [
    "def mapeo_de_labels(datos_df, columna):\n",
    "    # PRE: docframe con todos los datos. \"columna\" es la entrada que contiene los labels reales\n",
    "    # POST: devuelve el mismo docframe añadiendo la columna \"Clases\" en las cuales se mapean los valores de la\n",
    "    #       columna que se recibe como parámetro en funcion del diccionario \"mapeo\"  \n",
    "    \n",
    "    mapeo = {\n",
    "        'Diarrhea/Dysentery': 'Certain infectious and Parasitic Diseases',\n",
    "        'Other infectious diseases': 'Certain infectious and Parasitic Diseases',\n",
    "        'AIDS': 'Certain infectious and Parasitic Diseases',\n",
    "        'Sepsis': 'Certain infectious and Parasitic Diseases',\n",
    "        'Meningitis': 'Certain infectious and Parasitic Diseases',\n",
    "        'Meningitis/Sepsis': 'Certain infectious and Parasitic Diseases',\n",
    "        'Malaria': 'Certain infectious and Parasitic Diseases',\n",
    "        'Encephalitis': 'Certain infectious and Parasitic Diseases',\n",
    "        'Measles': 'Certain infectious and Parasitic Diseases',\n",
    "        'Hemorrhagic Fever': 'Certain infectious and Parasitic Diseases',\n",
    "        'TB': 'Certain infectious and Parasitic Diseases',\n",
    "        'Leukemia/Lymphomas': 'Neoplasms',\n",
    "        'Colorectal Cancer': 'Neoplasms',\n",
    "        'Lung Cancer': 'Neoplasms',\n",
    "        'Cervical Cancer': 'Neoplasms',\n",
    "        'Breast Cancer': 'Neoplasms',\n",
    "        'Stomach Cancer': 'Neoplasms',\n",
    "        'Prostate Cancer': 'Neoplasms',\n",
    "        'Esophageal Cancer': 'Neoplasms',\n",
    "        'Other Cancers': 'Neoplasms',\n",
    "        'Diabetes': 'Endocrine, Nutritional and Metabolic Diseases',\n",
    "        'Epilepsy': 'Diseases of the Nervous System',\n",
    "        'Stroke': 'Diseases of the circulatory system',\n",
    "        'Acute Myocardial Infarction': 'Diseases of the circulatory system',\n",
    "        'Pneumonia': 'Diseases of Respiratory System',\n",
    "        'Asthma': 'Diseases of Respiratory System',\n",
    "        'COPD': 'Diseases of Respiratory System',\n",
    "        'Cirrhosis': 'Diseases of the Digestive System',\n",
    "        'Other Digestive Diseases': 'Diseases of the Digestive System',\n",
    "        'Renal Failure': 'Diseases of the Genitourinary System',\n",
    "        'Preterm Delivery': 'Pregnancy, childbirth and the puerperium',\n",
    "        'Stillbirth': 'Pregnancy, childbirth and the puerperium',\n",
    "        'Maternal': 'Pregnancy, childbirth and the puerperium',\n",
    "        'Birth Asphyxia': 'Pregnancy, childbirth and the puerperium',\n",
    "        'Congenital Malformations': 'Congenital Malformations',\n",
    "        'Bite of Venomous Animal': 'Injury, Poisoning and External Causes',\n",
    "        'Poisonings': 'Injury, Poisoning and External Causes',\n",
    "        'Road Traffic': 'External Causes of Morbidity and Mortality',\n",
    "        'Falls': 'External Causes of Morbidity and Mortality',\n",
    "        'Homicide': 'External Causes of Morbidity and Mortality',\n",
    "        'Fires': 'External Causes of Morbidity and Mortality',\n",
    "        'Drowning': 'External Causes of Morbidity and Mortality',\n",
    "        'Suicide': 'External Causes of Morbidity and Mortality',\n",
    "        'Violent Death': 'External Causes of Morbidity and Mortality',\n",
    "        'Other injuries': 'External Causes of Morbidity and Mortality'\n",
    "}\n",
    "\n",
    "    # Aplicar el mapeo a la columna 'gs_text34'\n",
    "    datos_df['Clases'] = datos_df[columna].replace(mapeo)\n",
    "    return datos_df"
   ]
  },
  {
   "cell_type": "code",
   "execution_count": 3,
   "id": "3a76891a-9bbf-4011-a3a2-a2c72bf6b00a",
   "metadata": {},
   "outputs": [],
   "source": [
    "import pandas as pd\n",
    "\n",
    "datos_df = pd.read_csv(train_file)\n",
    "\n",
    "datos = pd.read_csv(train_file)\n",
    "\n",
    "# Realizamos un encoding de las clases de las instancias en función de un mapeo definido: Pneumonia -> 0; Stroke -> 1...\n",
    "datos = mapeo_de_labels(datos, 'gs_text34') # Añade la columna 'Clases'\n",
    "X = datos['open_response']\n",
    "\n",
    "#y = datos['Clases']\n",
    "y = datos['gs_text34']\n"
   ]
  },
  {
   "cell_type": "markdown",
   "id": "3f306eb1",
   "metadata": {},
   "source": [
    "# Preprocesado"
   ]
  },
  {
   "cell_type": "code",
   "execution_count": 4,
   "id": "5ed459a4",
   "metadata": {},
   "outputs": [
    {
     "name": "stderr",
     "output_type": "stream",
     "text": [
      "[nltk_data] Downloading package stopwords to\n",
      "[nltk_data]     /home/ag6154lk/nltk_data...\n",
      "[nltk_data]   Package stopwords is already up-to-date!\n"
     ]
    }
   ],
   "source": [
    "import nltk\n",
    "from nltk.corpus import stopwords\n",
    "from gensim.utils import simple_preprocess\n",
    " \n",
    "nltk.download('stopwords')\n",
    "stop_words = set(stopwords.words('english'))\n",
    "\n",
    "def preprocesado(documento):\n",
    "    # PRE: Un texto\n",
    "    # POST: Tokens del texto preprocesado\n",
    "    \n",
    "    tokens = simple_preprocess(documento)\n",
    "    tokens = [w for w in tokens if not w.lower() in stop_words]\n",
    "    \n",
    "    return tokens"
   ]
  },
  {
   "cell_type": "markdown",
   "id": "0c8b7b23",
   "metadata": {},
   "source": [
    "# Vectorización"
   ]
  },
  {
   "cell_type": "code",
   "execution_count": 6,
   "id": "692b8a14",
   "metadata": {},
   "outputs": [],
   "source": [
    "# Array que almacena las diferentes vectorizaciones para la research question\n",
    "vectorizaciones = [] "
   ]
  },
  {
   "cell_type": "code",
   "execution_count": 7,
   "id": "0894c880",
   "metadata": {},
   "outputs": [],
   "source": [
    "# Vectorización con TF-IDF\n",
    "from sklearn.feature_extraction.text import TfidfVectorizer\n",
    "\n",
    "def vec_tfidf(X):\n",
    "    vectorizer = TfidfVectorizer()\n",
    "    return vectorizer.fit_transform(X)\n",
    "\n",
    "X_vec = vec_tfidf(X) # 0.5s\n",
    "vectorizaciones.append((X_vec, \"TF-IDF\"))\n"
   ]
  },
  {
   "cell_type": "code",
   "execution_count": 8,
   "id": "cd3a1423",
   "metadata": {},
   "outputs": [],
   "source": [
    "# Vectorización con Doc2Vec -> Tamaño de vector de 100\n",
    "from gensim.models.doc2vec import Doc2Vec\n",
    "\n",
    "model = Doc2Vec.load(model_doc2vec)\n",
    "\n",
    "def vec_docEmbeddings(docs, model):\n",
    "    # PRE: una lista de documentos y el modelo de doc-embeddings\n",
    "    # POST: lista de (id, vector)\n",
    "    for i, line in enumerate(docs):\n",
    "        # Preprocesado del documento\n",
    "        tokens = preprocesado(line)\n",
    "        # Vectorizamos -> indice, vector\n",
    "        yield model.infer_vector(tokens)\n",
    "\n",
    "X_vec = list(vec_docEmbeddings(X, model)) # 14.2s\n",
    "vectorizaciones.append((X_vec, \"Doc2Vec\"))"
   ]
  },
  {
   "cell_type": "code",
   "execution_count": 9,
   "id": "d9ed80c2",
   "metadata": {},
   "outputs": [],
   "source": [
    "# Vectorización con Word2Vec de Google News -> Tamaño de vector de 300\n",
    "import gensim.downloader as api\n",
    "import numpy as np\n",
    "model = api.load('word2vec-google-news-300')"
   ]
  },
  {
   "cell_type": "code",
   "execution_count": 10,
   "id": "99579352",
   "metadata": {},
   "outputs": [],
   "source": [
    "def vec_googleEmbeddings(docs, model):\n",
    "    for i, line in enumerate(docs):\n",
    "        # Preprocesado del documento\n",
    "        tokens = preprocesado(line)\n",
    "        \n",
    "        data = []\n",
    "        for word in tokens:\n",
    "            if word in model.key_to_index:\n",
    "                data.append(model[word])\n",
    "        data = np.array(data)\n",
    "        \n",
    "        yield np.average(data, axis=0)\n",
    "        \n",
    "\n",
    "X_vec = list(vec_googleEmbeddings(X, model)) # 2.2s\n",
    "vectorizaciones.append((X_vec, \"Google W2V\"))"
   ]
  },
  {
   "cell_type": "code",
   "execution_count": 11,
   "id": "b8955ba3",
   "metadata": {},
   "outputs": [
    {
     "data": {
      "text/plain": [
       "array([-0.06445312, -0.16015625, -0.01208496,  0.13476562, -0.22949219,\n",
       "        0.16210938,  0.3046875 , -0.1796875 , -0.12109375,  0.25390625,\n",
       "       -0.01428223, -0.06396484, -0.08056641, -0.05688477, -0.19628906,\n",
       "        0.2890625 , -0.05151367,  0.14257812, -0.10498047, -0.04736328,\n",
       "       -0.34765625,  0.35742188,  0.265625  ,  0.00188446, -0.01586914,\n",
       "        0.00195312, -0.35546875,  0.22167969,  0.05761719,  0.15917969,\n",
       "        0.08691406, -0.0267334 , -0.04785156,  0.23925781, -0.05981445,\n",
       "        0.0378418 ,  0.17382812, -0.41796875,  0.2890625 ,  0.32617188,\n",
       "        0.02429199, -0.01647949, -0.06494141, -0.08886719,  0.07666016,\n",
       "       -0.15136719,  0.05249023, -0.04199219, -0.05419922,  0.00108337,\n",
       "       -0.20117188,  0.12304688,  0.09228516,  0.10449219, -0.00408936,\n",
       "       -0.04199219,  0.01409912, -0.02111816, -0.13476562, -0.24316406,\n",
       "        0.16015625, -0.06689453, -0.08984375, -0.07177734, -0.00595093,\n",
       "       -0.00482178, -0.00089264, -0.30664062, -0.0625    ,  0.07958984,\n",
       "       -0.00909424, -0.04492188,  0.09960938, -0.33398438, -0.3984375 ,\n",
       "        0.05541992, -0.06689453, -0.04467773,  0.11767578, -0.13964844,\n",
       "       -0.26367188,  0.17480469, -0.17382812, -0.40625   , -0.06738281,\n",
       "       -0.07617188,  0.09423828,  0.20996094, -0.16308594, -0.08691406,\n",
       "       -0.0534668 , -0.10351562, -0.07617188, -0.11083984, -0.03515625,\n",
       "       -0.14941406,  0.0378418 ,  0.38671875,  0.14160156, -0.2890625 ,\n",
       "       -0.16894531, -0.140625  , -0.04174805,  0.22753906,  0.24023438,\n",
       "       -0.01599121, -0.06787109,  0.21875   , -0.42382812, -0.5625    ,\n",
       "       -0.49414062, -0.3359375 ,  0.13378906,  0.01141357,  0.13671875,\n",
       "        0.0324707 ,  0.06835938, -0.27539062, -0.15917969,  0.00121307,\n",
       "        0.01208496, -0.0039978 ,  0.00442505, -0.04541016,  0.08642578,\n",
       "        0.09960938, -0.04296875, -0.11328125,  0.13867188,  0.41796875,\n",
       "       -0.28320312, -0.07373047, -0.11425781,  0.08691406, -0.02148438,\n",
       "        0.328125  , -0.07373047, -0.01348877,  0.17773438, -0.02624512,\n",
       "        0.13378906, -0.11132812, -0.12792969, -0.12792969,  0.18945312,\n",
       "       -0.13867188,  0.29882812, -0.07714844, -0.37695312, -0.10351562,\n",
       "        0.16992188, -0.10742188, -0.29882812,  0.00866699, -0.27734375,\n",
       "       -0.20996094, -0.1796875 , -0.19628906, -0.22167969,  0.08886719,\n",
       "       -0.27734375, -0.13964844,  0.15917969,  0.03637695,  0.03320312,\n",
       "       -0.08105469,  0.25390625, -0.08691406, -0.21289062, -0.18945312,\n",
       "       -0.22363281,  0.06542969, -0.16601562,  0.08837891, -0.359375  ,\n",
       "       -0.09863281,  0.35546875, -0.00741577,  0.19042969,  0.16992188,\n",
       "       -0.06005859, -0.20605469,  0.08105469,  0.12988281, -0.01135254,\n",
       "        0.33203125, -0.08691406,  0.27539062, -0.03271484,  0.12011719,\n",
       "       -0.0625    ,  0.1953125 , -0.10986328, -0.11767578,  0.20996094,\n",
       "        0.19921875,  0.02954102, -0.16015625,  0.00276184, -0.01367188,\n",
       "        0.03442383, -0.19335938,  0.00352478, -0.06542969, -0.05566406,\n",
       "        0.09423828,  0.29296875,  0.04052734, -0.09326172, -0.10107422,\n",
       "       -0.27539062,  0.04394531, -0.07275391,  0.13867188,  0.02380371,\n",
       "        0.13085938,  0.00236511, -0.2265625 ,  0.34765625,  0.13574219,\n",
       "        0.05224609,  0.18164062,  0.0402832 ,  0.23730469, -0.16992188,\n",
       "        0.10058594,  0.03833008,  0.10839844, -0.05615234, -0.00946045,\n",
       "        0.14550781, -0.30078125, -0.32226562,  0.18847656, -0.40234375,\n",
       "       -0.3125    , -0.08007812, -0.26757812,  0.16699219,  0.07324219,\n",
       "        0.06347656,  0.06591797,  0.17285156, -0.17773438,  0.00276184,\n",
       "       -0.05761719, -0.2265625 , -0.19628906,  0.09667969,  0.13769531,\n",
       "       -0.49414062, -0.27929688,  0.12304688, -0.30078125,  0.01293945,\n",
       "       -0.1875    , -0.20898438, -0.1796875 , -0.16015625, -0.03295898,\n",
       "        0.00976562,  0.25390625, -0.25195312,  0.00210571,  0.04296875,\n",
       "        0.01184082, -0.20605469,  0.24804688, -0.203125  , -0.17773438,\n",
       "        0.07275391,  0.04541016,  0.21679688, -0.2109375 ,  0.14550781,\n",
       "       -0.16210938,  0.20410156, -0.19628906, -0.35742188,  0.35742188,\n",
       "       -0.11962891,  0.35742188,  0.10351562,  0.07080078, -0.24707031,\n",
       "       -0.10449219, -0.19238281,  0.1484375 ,  0.00057983,  0.296875  ,\n",
       "       -0.12695312, -0.03979492,  0.13183594, -0.16601562,  0.125     ,\n",
       "        0.05126953, -0.14941406,  0.13671875, -0.02075195,  0.34375   ],\n",
       "      dtype=float32)"
      ]
     },
     "execution_count": 11,
     "metadata": {},
     "output_type": "execute_result"
    }
   ],
   "source": [
    "model['apple']"
   ]
  },
  {
   "cell_type": "code",
   "execution_count": 14,
   "id": "fe46f70b",
   "metadata": {},
   "outputs": [],
   "source": [
    "# Vectorizacion con Sentence-transformer\n",
    "from sentence_transformers import SentenceTransformer\n",
    "\n",
    "model = SentenceTransformer('all-MiniLM-L6-v2')\n",
    "\n",
    "def vec_allMiniLM(docs, model):\n",
    "    for doc in docs:\n",
    "        yield model.encode(doc)\n",
    "\n",
    "X_vec = list(vec_allMiniLM(X, model)) # 39.5s\n",
    "vectorizaciones.append((X_vec, \"allMiniLM\"))"
   ]
  },
  {
   "cell_type": "code",
   "execution_count": 20,
   "id": "61cbfddf",
   "metadata": {},
   "outputs": [
    {
     "name": "stderr",
     "output_type": "stream",
     "text": [
      "Some weights of XLMRobertaForSequenceClassification were not initialized from the model checkpoint at cardiffnlp/twitter-xlm-roberta-base and are newly initialized: ['classifier.dense.bias', 'classifier.out_proj.weight', 'classifier.out_proj.bias', 'classifier.dense.weight']\n",
      "You should probably TRAIN this model on a down-stream task to be able to use it for predictions and inference.\n"
     ]
    }
   ],
   "source": [
    "# Vectorizacion con transformer Roberta entrenado con Tweets\n",
    "from transformers import pipeline\n",
    "model_path = \"cardiffnlp/twitter-xlm-roberta-base\"\n",
    "model = pipeline(\"sentiment-analysis\", model=model_path, tokenizer=model_path)\n",
    "\n",
    "def vec_twitterXMLRobertaBase(docs, model):\n",
    "    for doc in docs:\n",
    "        tokens = preprocesado(doc)\n",
    "        yield model(tokens)\n",
    "        \n",
    "X_vec = list(vec_twitterXMLRobertaBase(X, model))\n",
    "vectorizaciones.append((X_vec, \"twitterXMLRobertaBase\"))"
   ]
  },
  {
   "cell_type": "markdown",
   "id": "27f90e87",
   "metadata": {},
   "source": [
    "# Banco de pruebas"
   ]
  },
  {
   "cell_type": "code",
   "execution_count": 18,
   "id": "32d3bee8-1626-487b-a0a4-9b9a8c676385",
   "metadata": {},
   "outputs": [],
   "source": [
    "from sklearn.linear_model import LogisticRegression\n",
    "from sklearn.model_selection import train_test_split\n",
    "from sklearn.metrics import f1_score\n",
    "\n",
    "evaluaciones = []\n",
    "for vec, label in vectorizaciones:\n",
    "    # Generar el modelo con los hyperparámetros default\n",
    "    logisticRegr = LogisticRegression(max_iter=50000)\n",
    "    x_train, x_test, y_train, y_test = train_test_split(vec, y, test_size=0.2, random_state=42)\n",
    "    \n",
    "    # Entrenar el modelo\n",
    "    logisticRegr.fit(x_train, y_train)\n",
    "\n",
    "    # Realizar predicciones en el conjunto de prueba\n",
    "    y_pred = logisticRegr.predict(x_test)\n",
    "\n",
    "    # Calcular el F-score\n",
    "    score = f1_score(y_test, y_pred, average='weighted')\n",
    "    evaluaciones.append((score, label))\n",
    "\n",
    "\n"
   ]
  },
  {
   "cell_type": "code",
   "execution_count": 19,
   "id": "e975cf75",
   "metadata": {},
   "outputs": [
    {
     "data": {
      "image/png": "[encoded data removed]",
      "text/plain": [
       "<Figure size 640x480 with 1 Axes>"
      ]
     },
     "metadata": {},
     "output_type": "display_data"
    }
   ],
   "source": [
    "import matplotlib.pyplot as plt\n",
    "\n",
    "# Graficamos los resultados\n",
    "for f1, label in evaluaciones:\n",
    "    # Asigna colores en función del f1_score\n",
    "    #colores = plt.cm.viridis(np.array(y) / max(y))\n",
    "\n",
    "    # Crea el gráfico de barras horizontales\n",
    "    #plt.bar(x, y, color=colores)\n",
    "    plt.bar(label, f1)\n",
    "\n",
    "\n",
    "# Personaliza el gráfico\n",
    "plt.ylabel('F1 Score')\n",
    "plt.xlabel('Método de vectorización')\n",
    "plt.title('Comparación de F1-Score de distintas vectorizaciones')\n",
    "plt.xticks(rotation=45)  # Rota las etiquetas del eje x para mayor legibilidad\n",
    "\n",
    "# Muestra el gráfico\n",
    "plt.show()"
   ]
  },
  {
   "cell_type": "code",
   "execution_count": null,
   "id": "f0de0f64",
   "metadata": {},
   "outputs": [],
   "source": [
    "# Comparar los resultados de TF-IDF con el dataset extendido\n",
    "ext_data = pd.ExcelFile(extended_file, sheet_name=\"data\")\n",
    "ext_data = mapeo_de_labels(ext_data, 'gs_text34') # Añade la columna 'Clases'\n",
    "X = datos['open_response']\n",
    "#y = datos['Clases']\n",
    "y = datos['gs_text34']"
   ]
  },
  {
   "cell_type": "markdown",
   "id": "74333555",
   "metadata": {},
   "source": [
    "# Guardar datos"
   ]
  },
  {
   "cell_type": "code",
   "execution_count": null,
   "id": "d22cbb29",
   "metadata": {},
   "outputs": [],
   "source": []
  }
 ],
 "metadata": {
  "kernelspec": {
   "display_name": "Python 3 (ipykernel)",
   "language": "python",
   "name": "python3"
  },
  "language_info": {
   "codemirror_mode": {
    "name": "ipython",
    "version": 3
   },
   "file_extension": ".py",
   "mimetype": "text/x-python",
   "name": "python",
   "nbconvert_exporter": "python",
   "pygments_lexer": "ipython3",
   "version": "3.10.12"
  }
 },
 "nbformat": 4,
 "nbformat_minor": 5
}
